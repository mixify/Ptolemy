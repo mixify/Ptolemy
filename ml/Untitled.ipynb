{
 "cells": [
  {
   "cell_type": "code",
   "execution_count": 2,
   "metadata": {},
   "outputs": [],
   "source": [
    "import numpy as np"
   ]
  },
  {
   "cell_type": "code",
   "execution_count": 54,
   "metadata": {},
   "outputs": [
    {
     "ename": "ValueError",
     "evalue": "operands could not be broadcast together with shapes (2,) (4,) ",
     "output_type": "error",
     "traceback": [
      "\u001b[0;31m---------------------------------------------------------------------------\u001b[0m",
      "\u001b[0;31mValueError\u001b[0m                                Traceback (most recent call last)",
      "\u001b[0;32m<ipython-input-54-7c0ab20c7fed>\u001b[0m in \u001b[0;36m<module>\u001b[0;34m\u001b[0m\n\u001b[1;32m     19\u001b[0m \u001b[0mb\u001b[0m\u001b[0;34m+\u001b[0m\u001b[0;36m2\u001b[0m\u001b[0;34m\u001b[0m\u001b[0;34m\u001b[0m\u001b[0m\n\u001b[1;32m     20\u001b[0m \u001b[0mc\u001b[0m \u001b[0;34m=\u001b[0m \u001b[0mnp\u001b[0m\u001b[0;34m.\u001b[0m\u001b[0marange\u001b[0m\u001b[0;34m(\u001b[0m\u001b[0;36m2\u001b[0m\u001b[0;34m)\u001b[0m\u001b[0;34m\u001b[0m\u001b[0;34m\u001b[0m\u001b[0m\n\u001b[0;32m---> 21\u001b[0;31m \u001b[0mc\u001b[0m\u001b[0;34m+\u001b[0m\u001b[0mb\u001b[0m\u001b[0;34m\u001b[0m\u001b[0;34m\u001b[0m\u001b[0m\n\u001b[0m",
      "\u001b[0;31mValueError\u001b[0m: operands could not be broadcast together with shapes (2,) (4,) "
     ]
    }
   ],
   "source": [
    "a = np.array([1,2,3])\n",
    "a\n",
    "a = np.array([[1,2,3],[4,5,6]])\n",
    "type(a)\n",
    "a\n",
    "\n",
    "a.ndim\n",
    "a.shape\n",
    "a.size\n",
    "a.dtype\n",
    "\n",
    "a = np.array([20,30,40,50])\n",
    "b = np.arange(4)\n",
    "\n",
    "a\n",
    "b\n",
    "c = a-b\n",
    "c\n",
    "b+2\n"
   ]
  },
  {
   "cell_type": "code",
   "execution_count": null,
   "metadata": {},
   "outputs": [],
   "source": []
  },
  {
   "cell_type": "code",
   "execution_count": 95,
   "metadata": {},
   "outputs": [
    {
     "data": {
      "text/plain": [
       "array([[ 0,  1,  3,  6],\n",
       "       [ 4,  9, 15, 22],\n",
       "       [ 8, 17, 27, 38]])"
      ]
     },
     "execution_count": 95,
     "metadata": {},
     "output_type": "execute_result"
    }
   ],
   "source": [
    "b**3\n",
    "10 * a\n",
    "a<35\n",
    "a*b\n",
    "\n",
    "b = np.arange(12).reshape(3,4)\n",
    "b.sum()\n",
    "b.sum(axis=0)\n",
    "np.argmax(b)\n",
    "np.argmin(b,axis = 1)\n",
    "np.exp(b)\n",
    "np.sqrt(b)\n",
    "np.mean(b, axis= 0)\n",
    "np.median(b)\n",
    "\n",
    "np.std(b)\n",
    "b.cumsum(axis=1)"
   ]
  },
  {
   "cell_type": "code",
   "execution_count": 212,
   "metadata": {},
   "outputs": [],
   "source": [
    "a = np.arange(10)\n",
    "a[2:5]\n",
    "a[:6:2]\n",
    "a[::-1]\n",
    "a[::2]\n",
    "\n",
    "b = np.arange(12).reshape(3,4)\n",
    "b[2,3]\n",
    "b[0:2,1]\n",
    "b[:,1]\n",
    "b[1:3,:]\n",
    "b[:,-1]\n",
    "\n",
    "c = np.array([[ [0,1,2], [10,12,13]], [[100,101,102],[110,112,113]]])\n",
    "c.shape\n",
    "c[1,...]\n",
    "c[...,2]\n",
    "c[c<2] += 200\n",
    "\n",
    "a = np.arange(12)\n",
    "a+=100\n",
    "i = np.array([1,1,6,7])\n",
    "a[i]\n",
    "j = np.array([[3,4],[7,8]])\n",
    "a[j]\n",
    "\n",
    "a = np.arange(12).reshape(3,4)\n",
    "a.ravel()\n",
    "a.T\n",
    "\n",
    "b.reshape(4,-1)\n",
    "\n",
    "a = np.arange(12)\n",
    "b = a\n",
    "b is a\n",
    "b.shape = 3,4\n",
    "b\n",
    "a.shape\n",
    "\n",
    "a = np.arange(12)\n",
    "c = a.view()\n",
    "a[3] = 1000\n",
    "c\n",
    "a.resize((3,4))\n",
    "a\n",
    "c[7] = 123\n",
    "a\n",
    "c"
   ]
  },
  {
   "cell_type": "code",
   "execution_count": 217,
   "metadata": {},
   "outputs": [
    {
     "name": "stdout",
     "output_type": "stream",
     "text": [
      "[ 0.00000000e+00  6.42787610e-01  9.84807753e-01  8.66025404e-01\n",
      "  3.42020143e-01 -3.42020143e-01 -8.66025404e-01 -9.84807753e-01\n",
      " -6.42787610e-01 -2.44929360e-16]\n"
     ]
    },
    {
     "data": {
      "text/plain": [
       "array([[[0.76167022, 0.58459342, 0.9619194 ],\n",
       "        [0.25853491, 0.73883466, 0.85417101],\n",
       "        [0.96513109, 0.579811  , 0.61316637]],\n",
       "\n",
       "       [[0.39767362, 0.40322179, 0.76592793],\n",
       "        [0.63223435, 0.55785014, 0.88892405],\n",
       "        [0.8898735 , 0.40061423, 0.7129139 ]],\n",
       "\n",
       "       [[0.39528538, 0.65743726, 0.46549393],\n",
       "        [0.50139556, 0.41093267, 0.04705856],\n",
       "        [0.02160881, 0.19598454, 0.01081773]]])"
      ]
     },
     "execution_count": 217,
     "metadata": {},
     "output_type": "execute_result"
    }
   ],
   "source": [
    "b = np.linspace(0,2*np.pi,10)\n",
    "a = np.sin(b)\n",
    "\n",
    "\n",
    "print(a)\n",
    "a = np.random.random((3,3,3))\n",
    "\n",
    "a"
   ]
  },
  {
   "cell_type": "code",
   "execution_count": 170,
   "metadata": {},
   "outputs": [
    {
     "data": {
      "text/plain": [
       "array([[1., 1., 1., 1., 1.],\n",
       "       [1., 0., 0., 0., 1.],\n",
       "       [1., 0., 0., 0., 1.],\n",
       "       [1., 0., 0., 0., 1.],\n",
       "       [1., 1., 1., 1., 1.]])"
      ]
     },
     "execution_count": 170,
     "metadata": {},
     "output_type": "execute_result"
    }
   ],
   "source": [
    "a = np.ones((5,5))\n",
    "a\n",
    "a[1:4,1:4] = 0\n",
    "a"
   ]
  },
  {
   "cell_type": "code",
   "execution_count": 187,
   "metadata": {},
   "outputs": [
    {
     "data": {
      "text/plain": [
       "array([[1., 0., 1., 0., 1.],\n",
       "       [0., 1., 0., 1., 0.],\n",
       "       [1., 0., 1., 0., 1.],\n",
       "       [0., 1., 0., 1., 0.],\n",
       "       [1., 0., 1., 0., 1.]])"
      ]
     },
     "execution_count": 187,
     "metadata": {},
     "output_type": "execute_result"
    }
   ],
   "source": [
    "a = np.zeros((5,5))\n",
    "a[::2,::2] = 1\n",
    "a[1::2,1::2] = 1\n",
    "a"
   ]
  },
  {
   "cell_type": "code",
   "execution_count": 218,
   "metadata": {},
   "outputs": [
    {
     "name": "stdout",
     "output_type": "stream",
     "text": [
      "[[0. 0. 0. 0. 0.]\n",
      " [1. 1. 1. 1. 1.]\n",
      " [2. 2. 2. 2. 2.]\n",
      " [3. 3. 3. 3. 3.]\n",
      " [4. 4. 4. 4. 4.]]\n",
      "[0.72078096 0.60425559 0.94761713 0.28886007 0.27543546 0.32638808\n",
      " 0.71807014 0.46220969 0.50600822 0.82641638]\n",
      "[0.72078096 0.60425559 0.         0.28886007 0.27543546 0.32638808\n",
      " 0.71807014 0.46220969 0.50600822 0.82641638]\n",
      "[[6.55490053 1.73600623 5.55377032]\n",
      " [6.04192841 0.37135523 4.32459634]\n",
      " [6.71993099 9.41043464 8.78457495]]\n"
     ]
    },
    {
     "data": {
      "text/plain": [
       "43.06553982992627"
      ]
     },
     "execution_count": 218,
     "metadata": {},
     "output_type": "execute_result"
    }
   ],
   "source": [
    "a = np.zeros((5,5))\n",
    "a\n",
    "for i in range(5):\n",
    "    a[i,::] = i\n",
    "print(a)\n",
    "\n",
    "a = np.random.random(10)\n",
    "print(a)\n",
    "a[np.argmax(a)] = 0\n",
    "print(a)\n",
    "\n",
    "\n",
    "a = np.random.random((3,3))\n",
    "a*=10\n",
    "print(a)\n",
    "np.sum(a[a>5])"
   ]
  },
  {
   "cell_type": "raw",
   "metadata": {},
   "source": []
  },
  {
   "cell_type": "code",
   "execution_count": null,
   "metadata": {},
   "outputs": [],
   "source": []
  }
 ],
 "metadata": {
  "kernelspec": {
   "display_name": "Python 3",
   "language": "python",
   "name": "python3"
  },
  "language_info": {
   "codemirror_mode": {
    "name": "ipython",
    "version": 3
   },
   "file_extension": ".py",
   "mimetype": "text/x-python",
   "name": "python",
   "nbconvert_exporter": "python",
   "pygments_lexer": "ipython3",
   "version": "3.6.8"
  }
 },
 "nbformat": 4,
 "nbformat_minor": 2
}
